{
  "cells": [
    {
      "cell_type": "markdown",
      "id": "bc05bfe4",
      "metadata": {},
      "source": [
        "<a href=\"https://colab.research.google.com/github/krishanu34/DataScience/blob/main/01.NLP/03.Text Preprocessing-Lemmatization.ipynb\" target=\"_parent\"><img src=\"https://colab.research.google.com/assets/colab-badge.svg\" alt=\"Open In Colab\"/></a>"
      ]
    },
    {
      "cell_type": "markdown",
      "id": "4ca5ac5e",
      "metadata": {
        "id": "4ca5ac5e"
      },
      "source": [
        "## Lemmatization\n",
        "\n",
        "Lemmatization is the process of reducing a word to its base or dictionary form, known as a **lemma**. Unlike stemming, which often chops off suffixes and can result in non-words, lemmatization uses vocabulary and morphological analysis to return a valid word.\n",
        "\n",
        "Think of it like finding the root of a family of words. For example, the words \"running,\" \"ran,\" and \"runs\" all have the lemma \"run.\"\n",
        "\n",
        "Lemmatization is crucial in Natural Language Processing (NLP) tasks where understanding the true meaning of a word, regardless of its inflections, is important. This includes tasks like:\n",
        "\n",
        "*   **Text analysis:** Analyzing the frequency of concepts rather than just word forms.\n",
        "*   **Information retrieval:** Finding documents that contain variations of a search term.\n",
        "*   **Machine translation:** Ensuring accurate translation of word meanings.\n",
        "\n",
        "#### WordNetLemmatizer\n",
        "\n",
        "A popular dictionary-based lemmatizer available in the NLTK library is the **WordNetLemmatizer**. It uses the WordNet lexical database to find the lemma of a word. WordNet is a large English lexical database that groups English words into sets of synonyms called synsets, and provides short definitions and usage examples.\n",
        "\n",
        "The WordNetLemmatizer requires the part-of-speech (POS) tag of the word to accurately determine its lemma. For example, the word \"leaves\" can be the plural of the noun \"leaf\" or the third-person singular present of the verb \"leave.\" Providing the correct POS tag helps the lemmatizer distinguish between these cases."
      ]
    },
    {
      "cell_type": "code",
      "execution_count": 1,
      "id": "ZhUBpnxp82KG",
      "metadata": {
        "id": "ZhUBpnxp82KG"
      },
      "outputs": [],
      "source": [
        "from nltk.stem import WordNetLemmatizer"
      ]
    },
    {
      "cell_type": "code",
      "execution_count": 2,
      "id": "-w2pGhgw9AzS",
      "metadata": {
        "id": "-w2pGhgw9AzS"
      },
      "outputs": [],
      "source": [
        "lemmatizer=WordNetLemmatizer()"
      ]
    },
    {
      "cell_type": "code",
      "execution_count": 8,
      "id": "cUeV9wI59Gny",
      "metadata": {
        "id": "cUeV9wI59Gny"
      },
      "outputs": [],
      "source": [
        "words = [\"leaves\",\"running\", \"quickly\", \"beautiful\", \"houses\", \"better\", \"sings\", \"happily\", \"large\", \"cats\", \"went\"]"
      ]
    },
    {
      "cell_type": "code",
      "execution_count": 9,
      "id": "5SwwVCXT9aCd",
      "metadata": {
        "colab": {
          "base_uri": "https://localhost:8080/"
        },
        "id": "5SwwVCXT9aCd",
        "outputId": "a9fcda2a-10b5-4111-da92-62e75c075087"
      },
      "outputs": [
        {
          "name": "stdout",
          "output_type": "stream",
          "text": [
            "As Nouns\n",
            "leaves ---> leaf\n",
            "running ---> running\n",
            "quickly ---> quickly\n",
            "beautiful ---> beautiful\n",
            "houses ---> house\n",
            "better ---> better\n",
            "sings ---> sings\n",
            "happily ---> happily\n",
            "large ---> large\n",
            "cats ---> cat\n",
            "went ---> went\n",
            "========================================\n",
            "As verbs\n",
            "leaves ---> leave\n",
            "running ---> run\n",
            "quickly ---> quickly\n",
            "beautiful ---> beautiful\n",
            "houses ---> house\n",
            "better ---> better\n",
            "sings ---> sing\n",
            "happily ---> happily\n",
            "large ---> large\n",
            "cats ---> cat\n",
            "went ---> go\n",
            "========================================\n",
            "As Adjectives\n",
            "leaves ---> leaves\n",
            "running ---> running\n",
            "quickly ---> quickly\n",
            "beautiful ---> beautiful\n",
            "houses ---> houses\n",
            "better ---> good\n",
            "sings ---> sings\n",
            "happily ---> happily\n",
            "large ---> large\n",
            "cats ---> cats\n",
            "went ---> went\n",
            "========================================\n",
            "As Adverbs\n",
            "leaves ---> leaves\n",
            "running ---> running\n",
            "quickly ---> quickly\n",
            "beautiful ---> beautiful\n",
            "houses ---> houses\n",
            "better ---> well\n",
            "sings ---> sings\n",
            "happily ---> happily\n",
            "large ---> large\n",
            "cats ---> cats\n",
            "went ---> went\n"
          ]
        }
      ],
      "source": [
        "print(\"As Nouns\")\n",
        "for word in words:\n",
        "  print(f\"{word} ---> {lemmatizer.lemmatize(word=word,pos='n')}\")\n",
        "print(\"========================================\")\n",
        "print(\"As verbs\")\n",
        "for word in words:\n",
        "  print(f\"{word} ---> {lemmatizer.lemmatize(word=word,pos='v')}\")\n",
        "print(\"========================================\")\n",
        "print(\"As Adjectives\")\n",
        "for word in words:\n",
        "  print(f\"{word} ---> {lemmatizer.lemmatize(word=word,pos='a')}\")\n",
        "print(\"========================================\")\n",
        "print(\"As Adverbs\")\n",
        "for word in words:\n",
        "  print(f\"{word} ---> {lemmatizer.lemmatize(word=word,pos='r')}\")"
      ]
    },
    {
      "cell_type": "code",
      "execution_count": null,
      "id": "zJgZxk22-Ecm",
      "metadata": {
        "id": "zJgZxk22-Ecm"
      },
      "outputs": [],
      "source": []
    }
  ],
  "metadata": {
    "colab": {
      "provenance": []
    },
    "kernelspec": {
      "display_name": "Python 3",
      "name": "python3"
    },
    "language_info": {
      "name": "python"
    }
  },
  "nbformat": 4,
  "nbformat_minor": 5
}

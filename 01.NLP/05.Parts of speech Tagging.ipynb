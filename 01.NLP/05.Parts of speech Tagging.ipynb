{
  "cells": [
    {
      "cell_type": "markdown",
      "metadata": {
        "id": "view-in-github",
        "colab_type": "text"
      },
      "source": [
        "<a href=\"https://colab.research.google.com/github/krishanu34/DataScience/blob/main/01.NLP/05.Parts%20of%20speech%20Tagging.ipynb\" target=\"_parent\"><img src=\"https://colab.research.google.com/assets/colab-badge.svg\" alt=\"Open In Colab\"/></a>"
      ]
    },
    {
      "cell_type": "markdown",
      "metadata": {
        "id": "1a422dca"
      },
      "source": [
        "## Parts of Speech (POS) Tagging Documentation\n",
        "\n",
        "Part of Speech (POS) tagging is the process of assigning a word to a particular part of speech, based on both its definition and its context. It's a fundamental step in many Natural Language Processing (NLP) tasks.\n",
        "\n",
        "Here are some common parts of speech and their typical tags (using the Penn Treebank tagset, commonly used with NLTK):\n",
        "\n",
        "*   **Noun:**\n",
        "    *   NN: singular or mass noun (e.g., \"dog\", \"water\")\n",
        "    *   NNS: plural noun (e.g., \"dogs\")\n",
        "    *   NNP: proper singular noun (e.g., \"John\")\n",
        "    *   NNPS: proper plural noun (e.g., \"Americans\")\n",
        "\n",
        "*   **Verb:**\n",
        "    *   VB: verb base form (e.g., \"run\")\n",
        "    *   VBD: verb past tense (e.g., \"ran\")\n",
        "    *   VBG: verb present participle or gerund (e.g., \"running\")\n",
        "    *   VBN: verb past participle (e.g., \"run\")\n",
        "    *   VBP: verb non-3rd person singular present (e.g., \"run\")\n",
        "    *   VBZ: verb 3rd person singular present (e.g., \"runs\")\n",
        "\n",
        "*   **Adjective:**\n",
        "    *   JJ: adjective or numeral, ordinal (e.g., \"big\", \"first\")\n",
        "    *   JJR: adjective comparative (e.g., \"bigger\")\n",
        "    *   JJS: adjective superlative (e.g., \"biggest\")\n",
        "\n",
        "*   **Adverb:**\n",
        "    *   RB: adverb (e.g., \"quickly\")\n",
        "    *   RBR: adverb comparative (e.g., \"quicker\")\n",
        "    *   RBS: adverb superlative (e.g., \"quickest\")\n",
        "\n",
        "*   **Pronoun:**\n",
        "    *   PRP: personal pronoun (e.g., \"I\", \"he\", \"she\")\n",
        "    *   PRP$: possessive pronoun (e.g., \"my\", \"his\", \"her\")\n",
        "\n",
        "*   **Preposition:**\n",
        "    *   IN: preposition or subordinating conjunction (e.g., \"on\", \"in\", \"because\")\n",
        "\n",
        "*   **Conjunction:**\n",
        "    *   CC: coordinating conjunction (e.g., \"and\", \"but\", \"or\")\n",
        "\n",
        "*   **Interjection:**\n",
        "    *   UH: interjection (e.g., \"oh\", \"uh\")\n",
        "\n",
        "*   **Determiner:**\n",
        "    *   DT: determiner (e.g., \"the\", \"a\", \"this\")"
      ],
      "id": "1a422dca"
    },
    {
      "cell_type": "code",
      "source": [
        "text = \"\"\"\n",
        "Natural language processing (NLP) is a fascinating field at the intersection of computer science, artificial intelligence, and linguistics.\n",
        "It focuses on enabling computers to understand, interpret, and generate human language.\n",
        "This involves a wide range of tasks, including text classification, sentiment analysis, machine translation, question answering, and text summarization.\n",
        "NLP has become increasingly important in today's data-driven world, with applications in various industries such as healthcare, finance, and customer service.\n",
        "One of the fundamental steps in many NLP tasks is text preprocessing, which involves cleaning and preparing the text data for analysis.\n",
        "This often includes tasks like tokenization (breaking down text into individual words or sub-word units), stemming or lemmatization (reducing words to their root form), and removing stop words.\n",
        "Stop words are common words like \"the\", \"a\", \"is\", and \"in\" that often don't carry significant meaning and can be removed to reduce noise and improve the performance of NLP models.\n",
        "Another important aspect of NLP is feature extraction, which involves converting text data into numerical representations that can be used by machine learning algorithms.\n",
        "Common techniques include bag-of-words, TF-IDF (Term Frequency-Inverse Document Frequency), and word embeddings.\n",
        "Bag-of-words represents text as a collection of word counts, while TF-IDF assigns weights to words based on their frequency in a document and across a corpus.\n",
        "Word embeddings, such as Word2Vec and GloVe, represent words as dense vectors in a continuous vector space, capturing semantic relationships between words.\n",
        "NLP models can be broadly categorized into traditional machine learning models and deep learning models.\n",
        "Traditional models like Naive Bayes and Support Vector Machines have been used for tasks like text classification, while deep learning models,\n",
        "such as Recurrent Neural Networks (RNNs) and Transformers, have achieved state-of-the-art results in various NLP tasks, particularly in areas like machine translation and text generation.\n",
        "The field of NLP is constantly evolving, with new techniques and models being developed.\n",
        "With the increasing availability of large datasets and computational resources, NLP is expected to play an even more significant role in the future,\n",
        "enabling more natural and intuitive interactions between humans and computers.\n",
        "\"\"\""
      ],
      "metadata": {
        "id": "b-e-HHtBv7Mz"
      },
      "id": "b-e-HHtBv7Mz",
      "execution_count": 14,
      "outputs": []
    },
    {
      "cell_type": "code",
      "source": [
        "from nltk.stem import PorterStemmer\n",
        "from nltk.corpus import stopwords\n",
        "from nltk.stem import WordNetLemmatizer\n",
        "import nltk\n",
        "nltk.download('stopwords')\n",
        "nltk.download('punkt_tab')\n",
        "nltk.download('wordnet')\n",
        "nltk.download('averaged_perceptron_tagger_eng')\n"
      ],
      "metadata": {
        "id": "nfvNq7HOwb4s",
        "outputId": "6858a7f2-9019-4501-f70d-8c076660133a",
        "colab": {
          "base_uri": "https://localhost:8080/"
        }
      },
      "id": "nfvNq7HOwb4s",
      "execution_count": 15,
      "outputs": [
        {
          "output_type": "stream",
          "name": "stderr",
          "text": [
            "[nltk_data] Downloading package stopwords to /root/nltk_data...\n",
            "[nltk_data]   Package stopwords is already up-to-date!\n",
            "[nltk_data] Downloading package punkt_tab to /root/nltk_data...\n",
            "[nltk_data]   Package punkt_tab is already up-to-date!\n",
            "[nltk_data] Downloading package wordnet to /root/nltk_data...\n",
            "[nltk_data]   Package wordnet is already up-to-date!\n",
            "[nltk_data] Downloading package averaged_perceptron_tagger_eng to\n",
            "[nltk_data]     /root/nltk_data...\n",
            "[nltk_data]   Package averaged_perceptron_tagger_eng is already up-to-\n",
            "[nltk_data]       date!\n"
          ]
        },
        {
          "output_type": "execute_result",
          "data": {
            "text/plain": [
              "True"
            ]
          },
          "metadata": {},
          "execution_count": 15
        }
      ]
    },
    {
      "cell_type": "code",
      "source": [
        "lemmatizer = WordNetLemmatizer()\n",
        "sentences = nltk.sent_tokenize(text)"
      ],
      "metadata": {
        "id": "wW8fdtM9weu2"
      },
      "id": "wW8fdtM9weu2",
      "execution_count": 16,
      "outputs": []
    },
    {
      "cell_type": "code",
      "source": [
        "for i in range(len(sentences)):\n",
        "  words = nltk.word_tokenize(sentences[i])\n",
        "  words = [lemmatizer.lemmatize(word) for word in words if word not in set(stopwords.words('english'))]\n",
        "  pos_tag = nltk.pos_tag(words)\n",
        "  print(pos_tag)"
      ],
      "metadata": {
        "id": "jBHYF97ZwhKX",
        "outputId": "4d696eb3-8033-4965-c81d-2ed6ca5ae569",
        "colab": {
          "base_uri": "https://localhost:8080/"
        }
      },
      "id": "jBHYF97ZwhKX",
      "execution_count": 17,
      "outputs": [
        {
          "output_type": "stream",
          "name": "stdout",
          "text": [
            "[('Natural', 'JJ'), ('language', 'NN'), ('processing', 'NN'), ('(', '('), ('NLP', 'NNP'), (')', ')'), ('fascinating', 'VBG'), ('field', 'NN'), ('intersection', 'NN'), ('computer', 'NN'), ('science', 'NN'), (',', ','), ('artificial', 'JJ'), ('intelligence', 'NN'), (',', ','), ('linguistics', 'NNS'), ('.', '.')]\n",
            "[('It', 'PRP'), ('focus', 'VBZ'), ('enabling', 'VBG'), ('computer', 'NN'), ('understand', 'NN'), (',', ','), ('interpret', 'NN'), (',', ','), ('generate', 'VBP'), ('human', 'JJ'), ('language', 'NN'), ('.', '.')]\n",
            "[('This', 'DT'), ('involves', 'VBZ'), ('wide', 'JJ'), ('range', 'NN'), ('task', 'NN'), (',', ','), ('including', 'VBG'), ('text', 'JJ'), ('classification', 'NN'), (',', ','), ('sentiment', 'NN'), ('analysis', 'NN'), (',', ','), ('machine', 'NN'), ('translation', 'NN'), (',', ','), ('question', 'NN'), ('answering', 'NN'), (',', ','), ('text', 'JJ'), ('summarization', 'NN'), ('.', '.')]\n",
            "[('NLP', 'NNP'), ('become', 'VBP'), ('increasingly', 'RB'), ('important', 'JJ'), ('today', 'NN'), (\"'s\", 'POS'), ('data-driven', 'JJ'), ('world', 'NN'), (',', ','), ('application', 'NN'), ('various', 'JJ'), ('industry', 'NN'), ('healthcare', 'NN'), (',', ','), ('finance', 'NN'), (',', ','), ('customer', 'NN'), ('service', 'NN'), ('.', '.')]\n",
            "[('One', 'CD'), ('fundamental', 'JJ'), ('step', 'NN'), ('many', 'JJ'), ('NLP', 'NNP'), ('task', 'NN'), ('text', 'NN'), ('preprocessing', 'NN'), (',', ','), ('involves', 'VBZ'), ('cleaning', 'VBG'), ('preparing', 'VBG'), ('text', 'NN'), ('data', 'NNS'), ('analysis', 'NN'), ('.', '.')]\n",
            "[('This', 'DT'), ('often', 'RB'), ('includes', 'VBZ'), ('task', 'NN'), ('like', 'IN'), ('tokenization', 'NN'), ('(', '('), ('breaking', 'VBG'), ('text', 'RB'), ('individual', 'JJ'), ('word', 'NN'), ('sub-word', 'JJ'), ('unit', 'NN'), (')', ')'), (',', ','), ('stemming', 'VBG'), ('lemmatization', 'NN'), ('(', '('), ('reducing', 'VBG'), ('word', 'NN'), ('root', 'NN'), ('form', 'NN'), (')', ')'), (',', ','), ('removing', 'VBG'), ('stop', 'JJ'), ('word', 'NN'), ('.', '.')]\n",
            "[('Stop', 'NNP'), ('word', 'NN'), ('common', 'JJ'), ('word', 'NN'), ('like', 'IN'), ('``', '``'), (\"''\", \"''\"), (',', ','), ('``', '``'), (\"''\", \"''\"), (',', ','), ('``', '``'), (\"''\", \"''\"), (',', ','), ('``', '``'), (\"''\", \"''\"), ('often', 'RB'), (\"n't\", 'RB'), ('carry', 'VB'), ('significant', 'JJ'), ('meaning', 'NN'), ('removed', 'VBD'), ('reduce', 'VB'), ('noise', 'NN'), ('improve', 'VB'), ('performance', 'NN'), ('NLP', 'NNP'), ('model', 'NN'), ('.', '.')]\n",
            "[('Another', 'DT'), ('important', 'JJ'), ('aspect', 'NN'), ('NLP', 'NNP'), ('feature', 'NN'), ('extraction', 'NN'), (',', ','), ('involves', 'VBZ'), ('converting', 'VBG'), ('text', 'NN'), ('data', 'NNS'), ('numerical', 'JJ'), ('representation', 'NN'), ('used', 'VBN'), ('machine', 'NN'), ('learning', 'VBG'), ('algorithm', 'NN'), ('.', '.')]\n",
            "[('Common', 'JJ'), ('technique', 'NN'), ('include', 'VBP'), ('bag-of-words', 'NNS'), (',', ','), ('TF-IDF', 'NNP'), ('(', '('), ('Term', 'NNP'), ('Frequency-Inverse', 'NNP'), ('Document', 'NNP'), ('Frequency', 'NNP'), (')', ')'), (',', ','), ('word', 'NN'), ('embeddings', 'NNS'), ('.', '.')]\n",
            "[('Bag-of-words', 'NNS'), ('represents', 'VBZ'), ('text', 'JJ'), ('collection', 'NN'), ('word', 'NN'), ('count', 'NN'), (',', ','), ('TF-IDF', 'NNP'), ('assigns', 'VBZ'), ('weight', 'NN'), ('word', 'NN'), ('based', 'VBN'), ('frequency', 'NN'), ('document', 'NN'), ('across', 'IN'), ('corpus', 'NN'), ('.', '.')]\n",
            "[('Word', 'NNP'), ('embeddings', 'NNS'), (',', ','), ('Word2Vec', 'NNP'), ('GloVe', 'NNP'), (',', ','), ('represent', 'NN'), ('word', 'NN'), ('dense', 'NN'), ('vector', 'NN'), ('continuous', 'JJ'), ('vector', 'NN'), ('space', 'NN'), (',', ','), ('capturing', 'VBG'), ('semantic', 'JJ'), ('relationship', 'NN'), ('word', 'NN'), ('.', '.')]\n",
            "[('NLP', 'NNP'), ('model', 'NN'), ('broadly', 'RB'), ('categorized', 'VBD'), ('traditional', 'JJ'), ('machine', 'NN'), ('learning', 'VBG'), ('model', 'NN'), ('deep', 'JJ'), ('learning', 'NN'), ('model', 'NN'), ('.', '.')]\n",
            "[('Traditional', 'JJ'), ('model', 'NN'), ('like', 'IN'), ('Naive', 'NNP'), ('Bayes', 'NNP'), ('Support', 'NNP'), ('Vector', 'NNP'), ('Machines', 'NNPS'), ('used', 'VBD'), ('task', 'NN'), ('like', 'IN'), ('text', 'JJ'), ('classification', 'NN'), (',', ','), ('deep', 'JJ'), ('learning', 'NN'), ('model', 'NN'), (',', ','), ('Recurrent', 'NNP'), ('Neural', 'NNP'), ('Networks', 'NNP'), ('(', '('), ('RNNs', 'NNP'), (')', ')'), ('Transformers', 'NNPS'), (',', ','), ('achieved', 'VBD'), ('state-of-the-art', 'JJ'), ('result', 'NN'), ('various', 'JJ'), ('NLP', 'NNP'), ('task', 'NN'), (',', ','), ('particularly', 'RB'), ('area', 'NN'), ('like', 'IN'), ('machine', 'NN'), ('translation', 'NN'), ('text', 'NN'), ('generation', 'NN'), ('.', '.')]\n",
            "[('The', 'DT'), ('field', 'NN'), ('NLP', 'NNP'), ('constantly', 'RB'), ('evolving', 'VBG'), (',', ','), ('new', 'JJ'), ('technique', 'NN'), ('model', 'NN'), ('developed', 'VBD'), ('.', '.')]\n",
            "[('With', 'IN'), ('increasing', 'VBG'), ('availability', 'NN'), ('large', 'JJ'), ('datasets', 'NNS'), ('computational', 'JJ'), ('resource', 'NN'), (',', ','), ('NLP', 'NNP'), ('expected', 'VBD'), ('play', 'VB'), ('even', 'RB'), ('significant', 'JJ'), ('role', 'NN'), ('future', 'NN'), (',', ','), ('enabling', 'VBG'), ('natural', 'JJ'), ('intuitive', 'JJ'), ('interaction', 'NN'), ('human', 'JJ'), ('computer', 'NN'), ('.', '.')]\n"
          ]
        }
      ]
    },
    {
      "cell_type": "code",
      "source": [],
      "metadata": {
        "id": "r2wI4mLmwkn_"
      },
      "id": "r2wI4mLmwkn_",
      "execution_count": 17,
      "outputs": []
    }
  ],
  "metadata": {
    "language_info": {
      "name": "python"
    },
    "colab": {
      "provenance": [],
      "include_colab_link": true
    },
    "kernelspec": {
      "name": "python3",
      "display_name": "Python 3"
    }
  },
  "nbformat": 4,
  "nbformat_minor": 5
}
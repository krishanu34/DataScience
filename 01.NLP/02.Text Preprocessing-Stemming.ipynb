{
  "cells": [
    {
      "cell_type": "markdown",
      "id": "b9ecd1a2",
      "metadata": {},
      "source": [
        "<a href=\"https://colab.research.google.com/github/krishanu34/DataScience/blob/main/01.NLP/02.Text Preprocessing-Stemming.ipynb\" target=\"_parent\"><img src=\"https://colab.research.google.com/assets/colab-badge.svg\" alt=\"Open In Colab\"/></a>"
      ]
    },
    {
      "cell_type": "markdown",
      "id": "f31df325",
      "metadata": {
        "id": "f31df325"
      },
      "source": [
        "Stemming is a process in natural language processing that reduces words to their root or base form, often called the **\"stem\"**. The goal is to remove suffixes from words so that variations of the same word are treated as the same token.\n",
        "\n",
        "For example, consider the words:\n",
        "- running\n",
        "- runs\n",
        "- runner\n",
        "\n",
        "After stemming, all these words would be reduced to the stem \"run\".\n",
        "\n",
        "Here are some common types of stemming algorithms:\n",
        "\n",
        "*   **Porter Stemmer:** This is one of the most widely used stemming algorithms. It uses a set of rules to remove suffixes based on different steps.\n",
        "*   **Snowball Stemmer (Porter2 Stemmer):** This is an improvement over the Porter Stemmer and is available in many languages. It's generally considered more aggressive than the Porter Stemmer.\n",
        "*   **Lancaster Stemmer:** This is a more aggressive stemming algorithm compared to Porter and Snowball, meaning it can reduce words to even shorter stems.\n",
        "*   **RegexpStemmer** : This is a simple stemming algorithm that uses regular expressions to remove suffixes from words. It's a rule-based stemmer where you define a set of regular expressions to match and remove patterns at the end of words.\n",
        "\n",
        "Stemming is a rule-based approach and can sometimes produce stems that are not actual words. For instance, \"beautiful\" might be stemmed to \"beauti\". It's important to note that stemming is different from lemmatization, which reduces words to their base or dictionary form (lemma), which is always a valid word."
      ]
    },
    {
      "cell_type": "code",
      "execution_count": 13,
      "id": "-ixaW7Syu96-",
      "metadata": {
        "id": "-ixaW7Syu96-"
      },
      "outputs": [],
      "source": [
        "words = [\"running\", \"runs\", \"runner\", \"easily\", \"easier\", \"beautify\", \"beautiful\", \"connecting\", \"connection\", \"connected\",\"runnings\"]"
      ]
    },
    {
      "cell_type": "code",
      "execution_count": 14,
      "id": "45758b6e",
      "metadata": {
        "id": "45758b6e",
        "vscode": {
          "languageId": "plaintext"
        }
      },
      "outputs": [],
      "source": [
        " from nltk.stem import PorterStemmer"
      ]
    },
    {
      "cell_type": "code",
      "execution_count": 15,
      "id": "i06AidYOz-4C",
      "metadata": {
        "id": "i06AidYOz-4C"
      },
      "outputs": [],
      "source": [
        "porter_stemmer = PorterStemmer()"
      ]
    },
    {
      "cell_type": "code",
      "execution_count": 16,
      "id": "ksrDLmgz0MYF",
      "metadata": {
        "colab": {
          "base_uri": "https://localhost:8080/"
        },
        "id": "ksrDLmgz0MYF",
        "outputId": "7215d431-4cc3-4122-d418-42a52ccd7951"
      },
      "outputs": [
        {
          "name": "stdout",
          "output_type": "stream",
          "text": [
            "running ----> run\n",
            "runs ----> run\n",
            "runner ----> runner\n",
            "easily ----> easili\n",
            "easier ----> easier\n",
            "beautify ----> beautifi\n",
            "beautiful ----> beauti\n",
            "connecting ----> connect\n",
            "connection ----> connect\n",
            "connected ----> connect\n",
            "runnings ----> run\n"
          ]
        }
      ],
      "source": [
        "for word in words:\n",
        "  print (f\"{word} ----> {porter_stemmer.stem(word)}\")"
      ]
    },
    {
      "cell_type": "code",
      "execution_count": 17,
      "id": "aFAxhKK50aZw",
      "metadata": {
        "id": "aFAxhKK50aZw"
      },
      "outputs": [],
      "source": [
        "from nltk.stem import RegexpStemmer"
      ]
    },
    {
      "cell_type": "code",
      "execution_count": 18,
      "id": "BmiHYrnO0xKV",
      "metadata": {
        "id": "BmiHYrnO0xKV"
      },
      "outputs": [],
      "source": [
        "regerx_stemmer = RegexpStemmer(\"ing$|s$|e$|able$\")"
      ]
    },
    {
      "cell_type": "code",
      "execution_count": 19,
      "id": "_We5q2-H0y1N",
      "metadata": {
        "colab": {
          "base_uri": "https://localhost:8080/"
        },
        "id": "_We5q2-H0y1N",
        "outputId": "025d9423-bb82-47de-970e-1ae0f6e34c47"
      },
      "outputs": [
        {
          "name": "stdout",
          "output_type": "stream",
          "text": [
            "running ----> runn\n",
            "runs ----> run\n",
            "runner ----> runner\n",
            "easily ----> easily\n",
            "easier ----> easier\n",
            "beautify ----> beautify\n",
            "beautiful ----> beautiful\n",
            "connecting ----> connect\n",
            "connection ----> connection\n",
            "connected ----> connected\n",
            "runnings ----> running\n"
          ]
        }
      ],
      "source": [
        "for word in words:\n",
        "  print (f\"{word} ----> {regerx_stemmer.stem(word)}\")"
      ]
    },
    {
      "cell_type": "code",
      "execution_count": 20,
      "id": "duCtinmi02al",
      "metadata": {
        "id": "duCtinmi02al"
      },
      "outputs": [],
      "source": [
        "from nltk.stem import SnowballStemmer"
      ]
    },
    {
      "cell_type": "code",
      "execution_count": 21,
      "id": "0GnjKq_e21g-",
      "metadata": {
        "id": "0GnjKq_e21g-"
      },
      "outputs": [],
      "source": [
        "snowball_stemmer = SnowballStemmer(language='english')"
      ]
    },
    {
      "cell_type": "code",
      "execution_count": 22,
      "id": "P7yjv98G25Ue",
      "metadata": {
        "colab": {
          "base_uri": "https://localhost:8080/"
        },
        "id": "P7yjv98G25Ue",
        "outputId": "242fd2e3-d64e-4d5a-9931-12a2d2ace64b"
      },
      "outputs": [
        {
          "name": "stdout",
          "output_type": "stream",
          "text": [
            "running ----> run\n",
            "runs ----> run\n",
            "runner ----> runner\n",
            "easily ----> easili\n",
            "easier ----> easier\n",
            "beautify ----> beautifi\n",
            "beautiful ----> beauti\n",
            "connecting ----> connect\n",
            "connection ----> connect\n",
            "connected ----> connect\n",
            "runnings ----> run\n"
          ]
        }
      ],
      "source": [
        "for word in words:\n",
        "  print (f\"{word} ----> {snowball_stemmer.stem(word)}\")"
      ]
    },
    {
      "cell_type": "code",
      "execution_count": 23,
      "id": "b--4eF9P27wN",
      "metadata": {
        "id": "b--4eF9P27wN"
      },
      "outputs": [],
      "source": [
        "from nltk.stem import LancasterStemmer"
      ]
    },
    {
      "cell_type": "code",
      "execution_count": 24,
      "id": "ts55WqvS3Bjd",
      "metadata": {
        "id": "ts55WqvS3Bjd"
      },
      "outputs": [],
      "source": [
        "lanc_stemmer = LancasterStemmer()"
      ]
    },
    {
      "cell_type": "code",
      "execution_count": 25,
      "id": "Hv1HOhQe3Det",
      "metadata": {
        "colab": {
          "base_uri": "https://localhost:8080/"
        },
        "id": "Hv1HOhQe3Det",
        "outputId": "bf08247f-6130-44e4-f8e5-1e721eced2b0"
      },
      "outputs": [
        {
          "name": "stdout",
          "output_type": "stream",
          "text": [
            "running ----> run\n",
            "runs ----> run\n",
            "runner ----> run\n",
            "easily ----> easy\n",
            "easier ----> easy\n",
            "beautify ----> beaut\n",
            "beautiful ----> beauty\n",
            "connecting ----> connect\n",
            "connection ----> connect\n",
            "connected ----> connect\n",
            "runnings ----> run\n"
          ]
        }
      ],
      "source": [
        "for word in words:\n",
        "  print (f\"{word} ----> {lanc_stemmer.stem(word)}\")"
      ]
    },
    {
      "cell_type": "code",
      "execution_count": null,
      "id": "O-o--YH33GWl",
      "metadata": {
        "id": "O-o--YH33GWl"
      },
      "outputs": [],
      "source": []
    }
  ],
  "metadata": {
    "colab": {
      "provenance": []
    },
    "kernelspec": {
      "display_name": "Python 3",
      "name": "python3"
    },
    "language_info": {
      "name": "python"
    }
  },
  "nbformat": 4,
  "nbformat_minor": 5
}

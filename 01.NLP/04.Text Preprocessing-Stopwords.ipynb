{
 "cells": [
  {
   "cell_type": "markdown",
   "id": "971da2a2",
   "metadata": {},
   "source": [
    "<a href=\"https://colab.research.google.com/github/krishanu34/DataScience/blob/main/01.NLP/04.Text Preprocessing-Stopwords.ipynb\" target=\"_parent\"><img src=\"https://colab.research.google.com/assets/colab-badge.svg\" alt=\"Open In Colab\"/></a>"
   ]
  },
  {
   "cell_type": "code",
   "execution_count": null,
   "id": "20ea1d02",
   "metadata": {
    "vscode": {
     "languageId": "plaintext"
    }
   },
   "outputs": [],
   "source": []
  }
 ],
 "metadata": {
  "language_info": {
   "name": "python"
  }
 },
 "nbformat": 4,
 "nbformat_minor": 5
}

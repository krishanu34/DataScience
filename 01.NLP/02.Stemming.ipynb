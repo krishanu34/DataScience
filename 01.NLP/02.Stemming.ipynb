{
  "cells": [
    {
      "cell_type": "markdown",
      "metadata": {
        "id": "f31df325"
      },
      "source": [
        "Stemming is a process in natural language processing that reduces words to their root or base form, often called the **\"stem\"**. The goal is to remove suffixes from words so that variations of the same word are treated as the same token.\n",
        "\n",
        "For example, consider the words:\n",
        "- running\n",
        "- runs\n",
        "- runner\n",
        "\n",
        "After stemming, all these words would be reduced to the stem \"run\".\n",
        "\n",
        "Here are some common types of stemming algorithms:\n",
        "\n",
        "*   **Porter Stemmer:** This is one of the most widely used stemming algorithms. It uses a set of rules to remove suffixes based on different steps.\n",
        "*   **Snowball Stemmer (Porter2 Stemmer):** This is an improvement over the Porter Stemmer and is available in many languages. It's generally considered more aggressive than the Porter Stemmer.\n",
        "*   **Lancaster Stemmer:** This is a more aggressive stemming algorithm compared to Porter and Snowball, meaning it can reduce words to even shorter stems.\n",
        "*   **RegexpStemmer** : This is a simple stemming algorithm that uses regular expressions to remove suffixes from words. It's a rule-based stemmer where you define a set of regular expressions to match and remove patterns at the end of words.\n",
        "\n",
        "Stemming is a rule-based approach and can sometimes produce stems that are not actual words. For instance, \"beautiful\" might be stemmed to \"beauti\". It's important to note that stemming is different from lemmatization, which reduces words to their base or dictionary form (lemma), which is always a valid word."
      ],
      "id": "f31df325"
    },
    {
      "cell_type": "code",
      "source": [
        "words = [\"running\", \"runs\", \"runner\", \"easily\", \"easier\", \"beautify\", \"beautiful\", \"connecting\", \"connection\", \"connected\",\"runnings\"]"
      ],
      "metadata": {
        "id": "-ixaW7Syu96-"
      },
      "id": "-ixaW7Syu96-",
      "execution_count": 13,
      "outputs": []
    },
    {
      "cell_type": "code",
      "execution_count": 14,
      "id": "45758b6e",
      "metadata": {
        "vscode": {
          "languageId": "plaintext"
        },
        "id": "45758b6e"
      },
      "outputs": [],
      "source": [
        " from nltk.stem import PorterStemmer"
      ]
    },
    {
      "cell_type": "code",
      "source": [
        "porter_stemmer = PorterStemmer()"
      ],
      "metadata": {
        "id": "i06AidYOz-4C"
      },
      "id": "i06AidYOz-4C",
      "execution_count": 15,
      "outputs": []
    },
    {
      "cell_type": "code",
      "source": [
        "for word in words:\n",
        "  print (f\"{word} ----> {porter_stemmer.stem(word)}\")"
      ],
      "metadata": {
        "id": "ksrDLmgz0MYF",
        "outputId": "7215d431-4cc3-4122-d418-42a52ccd7951",
        "colab": {
          "base_uri": "https://localhost:8080/"
        }
      },
      "id": "ksrDLmgz0MYF",
      "execution_count": 16,
      "outputs": [
        {
          "output_type": "stream",
          "name": "stdout",
          "text": [
            "running ----> run\n",
            "runs ----> run\n",
            "runner ----> runner\n",
            "easily ----> easili\n",
            "easier ----> easier\n",
            "beautify ----> beautifi\n",
            "beautiful ----> beauti\n",
            "connecting ----> connect\n",
            "connection ----> connect\n",
            "connected ----> connect\n",
            "runnings ----> run\n"
          ]
        }
      ]
    },
    {
      "cell_type": "code",
      "source": [
        "from nltk.stem import RegexpStemmer"
      ],
      "metadata": {
        "id": "aFAxhKK50aZw"
      },
      "id": "aFAxhKK50aZw",
      "execution_count": 17,
      "outputs": []
    },
    {
      "cell_type": "code",
      "source": [
        "regerx_stemmer = RegexpStemmer(\"ing$|s$|e$|able$\")"
      ],
      "metadata": {
        "id": "BmiHYrnO0xKV"
      },
      "id": "BmiHYrnO0xKV",
      "execution_count": 18,
      "outputs": []
    },
    {
      "cell_type": "code",
      "source": [
        "for word in words:\n",
        "  print (f\"{word} ----> {regerx_stemmer.stem(word)}\")"
      ],
      "metadata": {
        "id": "_We5q2-H0y1N",
        "outputId": "025d9423-bb82-47de-970e-1ae0f6e34c47",
        "colab": {
          "base_uri": "https://localhost:8080/"
        }
      },
      "id": "_We5q2-H0y1N",
      "execution_count": 19,
      "outputs": [
        {
          "output_type": "stream",
          "name": "stdout",
          "text": [
            "running ----> runn\n",
            "runs ----> run\n",
            "runner ----> runner\n",
            "easily ----> easily\n",
            "easier ----> easier\n",
            "beautify ----> beautify\n",
            "beautiful ----> beautiful\n",
            "connecting ----> connect\n",
            "connection ----> connection\n",
            "connected ----> connected\n",
            "runnings ----> running\n"
          ]
        }
      ]
    },
    {
      "cell_type": "code",
      "source": [
        "from nltk.stem import SnowballStemmer"
      ],
      "metadata": {
        "id": "duCtinmi02al"
      },
      "id": "duCtinmi02al",
      "execution_count": 20,
      "outputs": []
    },
    {
      "cell_type": "code",
      "source": [
        "snowball_stemmer = SnowballStemmer(language='english')"
      ],
      "metadata": {
        "id": "0GnjKq_e21g-"
      },
      "id": "0GnjKq_e21g-",
      "execution_count": 21,
      "outputs": []
    },
    {
      "cell_type": "code",
      "source": [
        "for word in words:\n",
        "  print (f\"{word} ----> {snowball_stemmer.stem(word)}\")"
      ],
      "metadata": {
        "id": "P7yjv98G25Ue",
        "outputId": "242fd2e3-d64e-4d5a-9931-12a2d2ace64b",
        "colab": {
          "base_uri": "https://localhost:8080/"
        }
      },
      "id": "P7yjv98G25Ue",
      "execution_count": 22,
      "outputs": [
        {
          "output_type": "stream",
          "name": "stdout",
          "text": [
            "running ----> run\n",
            "runs ----> run\n",
            "runner ----> runner\n",
            "easily ----> easili\n",
            "easier ----> easier\n",
            "beautify ----> beautifi\n",
            "beautiful ----> beauti\n",
            "connecting ----> connect\n",
            "connection ----> connect\n",
            "connected ----> connect\n",
            "runnings ----> run\n"
          ]
        }
      ]
    },
    {
      "cell_type": "code",
      "source": [
        "from nltk.stem import LancasterStemmer"
      ],
      "metadata": {
        "id": "b--4eF9P27wN"
      },
      "id": "b--4eF9P27wN",
      "execution_count": 23,
      "outputs": []
    },
    {
      "cell_type": "code",
      "source": [
        "lanc_stemmer = LancasterStemmer()"
      ],
      "metadata": {
        "id": "ts55WqvS3Bjd"
      },
      "id": "ts55WqvS3Bjd",
      "execution_count": 24,
      "outputs": []
    },
    {
      "cell_type": "code",
      "source": [
        "for word in words:\n",
        "  print (f\"{word} ----> {lanc_stemmer.stem(word)}\")"
      ],
      "metadata": {
        "id": "Hv1HOhQe3Det",
        "outputId": "bf08247f-6130-44e4-f8e5-1e721eced2b0",
        "colab": {
          "base_uri": "https://localhost:8080/"
        }
      },
      "id": "Hv1HOhQe3Det",
      "execution_count": 25,
      "outputs": [
        {
          "output_type": "stream",
          "name": "stdout",
          "text": [
            "running ----> run\n",
            "runs ----> run\n",
            "runner ----> run\n",
            "easily ----> easy\n",
            "easier ----> easy\n",
            "beautify ----> beaut\n",
            "beautiful ----> beauty\n",
            "connecting ----> connect\n",
            "connection ----> connect\n",
            "connected ----> connect\n",
            "runnings ----> run\n"
          ]
        }
      ]
    },
    {
      "cell_type": "code",
      "source": [],
      "metadata": {
        "id": "O-o--YH33GWl"
      },
      "id": "O-o--YH33GWl",
      "execution_count": null,
      "outputs": []
    }
  ],
  "metadata": {
    "language_info": {
      "name": "python"
    },
    "colab": {
      "provenance": []
    },
    "kernelspec": {
      "name": "python3",
      "display_name": "Python 3"
    }
  },
  "nbformat": 4,
  "nbformat_minor": 5
}